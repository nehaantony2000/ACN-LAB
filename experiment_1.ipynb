{
  "nbformat": 4,
  "nbformat_minor": 0,
  "metadata": {
    "colab": {
      "name": "experiment_1.ipynb",
      "provenance": [],
      "authorship_tag": "ABX9TyOkzTPh63kLlf+8zTZJQ4jZ",
      "include_colab_link": true
    },
    "kernelspec": {
      "name": "python3",
      "display_name": "Python 3"
    },
    "language_info": {
      "name": "python"
    }
  },
  "cells": [
    {
      "cell_type": "markdown",
      "metadata": {
        "id": "view-in-github",
        "colab_type": "text"
      },
      "source": [
        "<a href=\"https://colab.research.google.com/github/nehaantony2000/ACN-LAB/blob/main/experiment_1.ipynb\" target=\"_parent\"><img src=\"https://colab.research.google.com/assets/colab-badge.svg\" alt=\"Open In Colab\"/></a>"
      ]
    },
    {
      "cell_type": "code",
      "execution_count": null,
      "metadata": {
        "colab": {
          "base_uri": "https://localhost:8080/"
        },
        "id": "2NxeYFfeyEef",
        "outputId": "0998c280-863b-4f12-b067-7ad65acaddcc"
      },
      "outputs": [
        {
          "output_type": "stream",
          "name": "stdout",
          "text": [
            "type: <class 'numpy.ndarray'>\n",
            "shape: 3\n",
            "1 2 3\n",
            "[5 2 3]\n"
          ]
        }
      ],
      "source": [
        "import numpy as np\n",
        "\n",
        "a = np.array([1, 2, 3])   # Create a rank 1 array\n",
        "print(\"type: %s\" %type(a))            # Prints \"<class 'numpy.ndarray'>\"\n",
        "print(\"shape: %s\" %a.shape)            # Prints \"(3,)\"\n",
        "print(a[0], a[1], a[2])   # Prints \"1 2 3\"\n",
        "a[0] = 5                  # Change an element of the array\n",
        "print(a)  "
      ]
    },
    {
      "cell_type": "code",
      "source": [
        "b = np.array([[1,2,3],[4,5,6]])    # Create a rank 2 array\n",
        "print(\"\\n shape of b:\",b.shape)                     # Prints \"(2, 3)\"\n",
        "print(b[0, 0], b[0, 1], b[1, 0])   # Prints \"1 2 4\""
      ],
      "metadata": {
        "colab": {
          "base_uri": "https://localhost:8080/"
        },
        "id": "qp0rsFPazCq3",
        "outputId": "5a5e1d08-446c-457b-fcb8-161a061d999b"
      },
      "execution_count": null,
      "outputs": [
        {
          "output_type": "stream",
          "name": "stdout",
          "text": [
            "\n",
            " shape of b: (2, 3)\n",
            "1 2 4\n"
          ]
        }
      ]
    },
    {
      "cell_type": "code",
      "source": [
        "a = np.zeros((2,2))   # Create an array of all zeros\n",
        "print(\"All zeros matrix:\\n  %s\" %a)  "
      ],
      "metadata": {
        "colab": {
          "base_uri": "https://localhost:8080/"
        },
        "id": "HQtX9kZEzF1m",
        "outputId": "798155b8-edf6-4688-b4b0-2b89c5cf21a7"
      },
      "execution_count": null,
      "outputs": [
        {
          "output_type": "stream",
          "name": "stdout",
          "text": [
            "All zeros matrix:\n",
            "  [[0. 0.]\n",
            " [0. 0.]]\n"
          ]
        }
      ]
    },
    {
      "cell_type": "code",
      "source": [
        "b = np.ones((1,2))    # Create an array of all ones\n",
        "print(\"\\nAll ones matrix:\\n  %s\" %b)  "
      ],
      "metadata": {
        "colab": {
          "base_uri": "https://localhost:8080/"
        },
        "id": "tFUFt2iGzJDl",
        "outputId": "38e664cf-c401-4961-af90-f6fd04b1c609"
      },
      "execution_count": null,
      "outputs": [
        {
          "output_type": "stream",
          "name": "stdout",
          "text": [
            "\n",
            "All ones matrix:\n",
            "  [[1. 1.]]\n"
          ]
        }
      ]
    },
    {
      "cell_type": "code",
      "source": [
        "d = np.eye(2)         # Create a 2x2 identity matrix\n",
        "print(\"\\n identity matrix: \\n%s\"%d)"
      ],
      "metadata": {
        "colab": {
          "base_uri": "https://localhost:8080/"
        },
        "id": "ORMpPDC7zL6u",
        "outputId": "1d36fabd-29bd-466e-ad5f-f922ac155bdd"
      },
      "execution_count": null,
      "outputs": [
        {
          "output_type": "stream",
          "name": "stdout",
          "text": [
            "\n",
            " identity matrix: \n",
            "[[1. 0.]\n",
            " [0. 1.]]\n"
          ]
        }
      ]
    },
    {
      "cell_type": "code",
      "source": [
        "e = np.random.random((2,2))  # Create an array filled with random values\n",
        "print(\"\\n random matrix: \\n%s\"%e)"
      ],
      "metadata": {
        "colab": {
          "base_uri": "https://localhost:8080/"
        },
        "id": "VaYjx-k-zQJ9",
        "outputId": "d8e0ad20-5764-4dc0-e733-cf0d0c7a80fc"
      },
      "execution_count": null,
      "outputs": [
        {
          "output_type": "stream",
          "name": "stdout",
          "text": [
            "\n",
            " random matrix: \n",
            "[[0.35490596 0.99858502]\n",
            " [0.33946263 0.58516174]]\n"
          ]
        }
      ]
    },
    {
      "cell_type": "code",
      "source": [
        "#vectorized sum\n",
        "print(\"Vectorized sum example\\n\")\n",
        "x = np.array([[1,2],[3,4]])\n",
        "print(\"x:\\n %s\" %x)\n",
        "print(\"sum: %s\"%np.sum(x))  # Compute sum of all elements; prints \"10\"\n",
        "print(\"sum axis = 0: %s\" %np.sum(x, axis=0))  # Compute sum of each column; prints \"[4 6]\"\n",
        "print(\" sum axis = 1: %s\" %np.sum(x, axis=1))  # Compute sum of each row; prints \"[3 7]\""
      ],
      "metadata": {
        "colab": {
          "base_uri": "https://localhost:8080/"
        },
        "id": "T-ebhQIXzSFV",
        "outputId": "caea636e-786a-4cb3-c6ae-9156d570826b"
      },
      "execution_count": null,
      "outputs": [
        {
          "output_type": "stream",
          "name": "stdout",
          "text": [
            "Vectorized sum example\n",
            "\n",
            "x:\n",
            " [[1 2]\n",
            " [3 4]]\n",
            "sum: 10\n",
            "sum axis = 0: [4 6]\n",
            " sum axis = 1: [3 7]\n"
          ]
        }
      ]
    },
    {
      "cell_type": "code",
      "source": [
        "#matrix dot product\n",
        "a = np.arange(4)\n",
        "b = np.arange(4)\n",
        "\n",
        "dp = np.dot(a,b)\n",
        "\n",
        "print(\"Dot product: %s\\n\" %dp)"
      ],
      "metadata": {
        "colab": {
          "base_uri": "https://localhost:8080/"
        },
        "id": "yYzGTMfBzXIv",
        "outputId": "4b6e75be-3787-4f66-c40f-68c444121b9a"
      },
      "execution_count": null,
      "outputs": [
        {
          "output_type": "stream",
          "name": "stdout",
          "text": [
            "Dot product: 14\n",
            "\n"
          ]
        }
      ]
    },
    {
      "cell_type": "code",
      "source": [
        "#outer product\n",
        "op = np.outer(a,b)\n",
        "print(\"\\n Outer product: %s\\n\" %op)"
      ],
      "metadata": {
        "colab": {
          "base_uri": "https://localhost:8080/"
        },
        "id": "fJ2uXbsQzeX2",
        "outputId": "c2d1f297-7cdc-4f03-91ba-2f1bea01f503"
      },
      "execution_count": null,
      "outputs": [
        {
          "output_type": "stream",
          "name": "stdout",
          "text": [
            "\n",
            " Outer product: [[       0        0        0 ...        0        0        0]\n",
            " [       0        1        2 ...     9997     9998     9999]\n",
            " [       0        2        4 ...    19994    19996    19998]\n",
            " ...\n",
            " [       0     9997    19994 ... 99940009 99950006 99960003]\n",
            " [       0     9998    19996 ... 99950006 99960004 99970002]\n",
            " [       0     9999    19998 ... 99960003 99970002 99980001]]\n",
            "\n"
          ]
        }
      ]
    },
    {
      "cell_type": "code",
      "source": [
        "#elementwise product\n",
        "\n",
        "ep = np.multiply(a, b)\n",
        "\n",
        "print(\"\\n Element Wise product: %s \\n\" %ep)"
      ],
      "metadata": {
        "colab": {
          "base_uri": "https://localhost:8080/"
        },
        "id": "NxOfZMZ7zj3W",
        "outputId": "adf9846f-7339-4388-843c-7d0ddbee7ea9"
      },
      "execution_count": null,
      "outputs": [
        {
          "output_type": "stream",
          "name": "stdout",
          "text": [
            "\n",
            " Element Wise product: [       0        1        4 ... 99940009 99960004 99980001] \n",
            "\n"
          ]
        }
      ]
    },
    {
      "cell_type": "code",
      "source": [
        "import numpy as np\n",
        "\n",
        "x = np.array([[1,2], [3,4]])\n",
        "print(\"Original x: \\n%s \" %x)    # Prints \"[[1 2]\n",
        "            #          [3 4]]\"\n",
        "print(\"\\nTranspose of x: \\n%s\" %x.T)  # Prints \"[[1 3]\n",
        "            #          [2 4]]\"\n",
        "            "
      ],
      "metadata": {
        "colab": {
          "base_uri": "https://localhost:8080/"
        },
        "id": "7QHhBc4Vz-CG",
        "outputId": "6390baf4-eb8f-43ee-c858-71a399c981f6"
      },
      "execution_count": null,
      "outputs": [
        {
          "output_type": "stream",
          "name": "stdout",
          "text": [
            "Original x: \n",
            "[[1 2]\n",
            " [3 4]] \n",
            "\n",
            "Transpose of x: \n",
            "[[1 3]\n",
            " [2 4]]\n"
          ]
        }
      ]
    },
    {
      "cell_type": "code",
      "source": [
        "# Singular-value decomposition\n",
        "from numpy import array\n",
        "from scipy.linalg import svd\n",
        "# define a matrix\n",
        "A = array([[1, 2], [3, 4], [5, 6]])\n",
        "print(\"A: \\n%s\" %A)\n",
        "# SVD\n",
        "U, s, VT = svd(A)\n",
        "print(\"\\nU: \\n%s\" %U)\n",
        "print(\"\\ns: \\n %s\" %s)\n",
        "print(\"\\nV^T: \\n %s\" %VT)"
      ],
      "metadata": {
        "colab": {
          "base_uri": "https://localhost:8080/"
        },
        "id": "cMb1flAg11qe",
        "outputId": "8ef6d943-f2a4-490d-962d-e124aa5aef26"
      },
      "execution_count": null,
      "outputs": [
        {
          "output_type": "stream",
          "name": "stdout",
          "text": [
            "A: \n",
            "[[1 2]\n",
            " [3 4]\n",
            " [5 6]]\n",
            "\n",
            "U: \n",
            "[[-0.2298477   0.88346102  0.40824829]\n",
            " [-0.52474482  0.24078249 -0.81649658]\n",
            " [-0.81964194 -0.40189603  0.40824829]]\n",
            "\n",
            "s: \n",
            " [9.52551809 0.51430058]\n",
            "\n",
            "V^T: \n",
            " [[-0.61962948 -0.78489445]\n",
            " [-0.78489445  0.61962948]]\n"
          ]
        }
      ]
    }
  ]
}